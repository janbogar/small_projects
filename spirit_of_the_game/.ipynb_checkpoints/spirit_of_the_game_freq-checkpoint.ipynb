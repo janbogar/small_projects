{
 "cells": [
  {
   "cell_type": "markdown",
   "metadata": {},
   "source": [
    "# Unfair spirit of the game\n",
    "In this notebook we statistically test the suspicion, that spirit of the game scores at Ultimate frisbee tournaments are not objective but biased by the team winning/losing. Specifically we test the hypotheses that if a team loses, they give lower spirit of the game score to their oponents than if they win.\n",
    "Data was taken from the EBUC tournament results http://live.ebuc2019.org/results."
   ]
  },
  {
   "cell_type": "code",
   "execution_count": 1,
   "metadata": {},
   "outputs": [],
   "source": [
    "import json\n",
    "import matplotlib.pyplot as plt\n",
    "import scipy.stats as scs"
   ]
  },
  {
   "cell_type": "code",
   "execution_count": 2,
   "metadata": {
    "scrolled": true
   },
   "outputs": [
    {
     "data": {
      "text/plain": [
       "(\"ITA Master Men's\",\n",
       " [{'division': \"Master Men's\",\n",
       "   'oponent': \"SWE Master Men's\",\n",
       "   'oponent_score': 13,\n",
       "   'oponent_spirit': [2, 2, 2, 2, 2],\n",
       "   'score': 5,\n",
       "   'spirit': [2, 2, 2, 3, 2]},\n",
       "  {'division': \"Master Men's\",\n",
       "   'oponent': \"GBR Master Men's\",\n",
       "   'oponent_score': 13,\n",
       "   'oponent_spirit': [2, 2, 3, 3, 2],\n",
       "   'score': 4,\n",
       "   'spirit': [2, 2, 2, 3, 2]},\n",
       "  {'division': \"Master Men's\",\n",
       "   'oponent': \"DEN Master Men's\",\n",
       "   'oponent_score': 12,\n",
       "   'oponent_spirit': [1, 2, 2, 3, 2],\n",
       "   'score': 9,\n",
       "   'spirit': [3, 2, 2, 3, 2]},\n",
       "  {'division': \"Master Men's\",\n",
       "   'oponent': \"IRL Master Men's\",\n",
       "   'oponent_score': 8,\n",
       "   'oponent_spirit': [4, 2, 3, 3, 3],\n",
       "   'score': 10,\n",
       "   'spirit': [2, 2, 2, 3, 2]},\n",
       "  {'division': \"Master Men's\",\n",
       "   'oponent': \"NED Master Men's\",\n",
       "   'oponent_score': 11,\n",
       "   'oponent_spirit': [2, 2, 2, 2, 2],\n",
       "   'score': 8,\n",
       "   'spirit': [2, 2, 3, 2, 2]},\n",
       "  {'division': \"Master Men's\",\n",
       "   'oponent': \"FRA Master Men's\",\n",
       "   'oponent_score': 13,\n",
       "   'oponent_spirit': [2, 2, 2, 2, 3],\n",
       "   'score': 4,\n",
       "   'spirit': [2, 2, 2, 2, 2]},\n",
       "  {'division': \"Master Men's\",\n",
       "   'oponent': \"SUI Master Men's\",\n",
       "   'oponent_score': 8,\n",
       "   'oponent_spirit': [2, 2, 2, 3, 2],\n",
       "   'score': 12,\n",
       "   'spirit': [2, 2, 2, 3, 3]},\n",
       "  {'division': \"Master Men's\",\n",
       "   'oponent': \"NED Master Men's\",\n",
       "   'oponent_score': 11,\n",
       "   'oponent_spirit': [2, 2, 2, 2, 2],\n",
       "   'score': 7,\n",
       "   'spirit': [2, 2, 3, 2, 2]},\n",
       "  {'division': \"Master Men's\",\n",
       "   'oponent': \"BEL Master Men's\",\n",
       "   'oponent_score': 10,\n",
       "   'oponent_spirit': [2, 2, 2, 3, 2],\n",
       "   'score': 8,\n",
       "   'spirit': [2, 2, 3, 2, 2]}])"
      ]
     },
     "execution_count": 2,
     "metadata": {},
     "output_type": "execute_result"
    }
   ],
   "source": [
    "data=json.load(open(\"ebuc_team_results.json\"))\n",
    "next(iter(data.items()))    #example of data entry, all matches played by a given team"
   ]
  },
  {
   "cell_type": "code",
   "execution_count": 3,
   "metadata": {},
   "outputs": [
    {
     "data": {
      "text/plain": [
       "(398, 398)"
      ]
     },
     "execution_count": 3,
     "metadata": {},
     "output_type": "execute_result"
    }
   ],
   "source": [
    "scores_after_winning=[]\n",
    "scores_after_loosing=[]\n",
    "for team in data.values():\n",
    "    for match in team:\n",
    "        spirit=sum(match[\"oponent_spirit\"])\n",
    "        if match[\"oponent_score\"]>match[\"score\"]:\n",
    "            scores_after_loosing.append(spirit)\n",
    "        else:\n",
    "            scores_after_winning.append(spirit)\n",
    "    \n",
    "len(scores_after_loosing),len(scores_after_winning)"
   ]
  },
  {
   "cell_type": "code",
   "execution_count": 4,
   "metadata": {},
   "outputs": [
    {
     "data": {
      "image/png": "[encoded data removed]",
      "text/plain": [
       "<Figure size 432x288 with 1 Axes>"
      ]
     },
     "metadata": {},
     "output_type": "display_data"
    },
    {
     "name": "stdout",
     "output_type": "stream",
     "text": [
      "bins edges:  [5.5, 6.5, 7.5, 8.5, 9.5, 10.5, 11.5, 12.5, 13.5, 14.5]\n",
      "after loosing:  [  1.   7.  19.  37.  92. 124.  81.  30.   7.]\n",
      "after winning:  [  2.   3.   5.  13.  63. 130. 123.  44.  11.]\n"
     ]
    }
   ],
   "source": [
    "bins=[i+0.5 for i in range(5,15)]\n",
    "loosing_hist,_,_=plt.hist(scores_after_loosing,alpha=0.5,label=\"after loosing\",bins=bins)\n",
    "winning_hist,_,_=plt.hist(scores_after_winning,alpha=0.5,label=\"after winning\",bins=bins)\n",
    "plt.legend()\n",
    "plt.title(\"Histogram of SOTG scores awarded to the oponent\")\n",
    "plt.show()\n",
    "print(\"bins edges: \",bins)\n",
    "print(\"after loosing: \",loosing_hist)\n",
    "print(\"after winning: \",winning_hist)"
   ]
  },
  {
   "cell_type": "markdown",
   "metadata": {},
   "source": [
    "It seems that after loosing, teams are on awarage apointing lower sotg scores to their oponents than after winning.\n",
    "Let's do the $\\chi^2$ test:"
   ]
  },
  {
   "cell_type": "code",
   "execution_count": 5,
   "metadata": {},
   "outputs": [
    {
     "name": "stdout",
     "output_type": "stream",
     "text": [
      "p=  2.259905820957564e-05\n"
     ]
    }
   ],
   "source": [
    "chi_sqrt,p,dof,expected=scs.chi2_contingency([loosing_hist[3:],winning_hist[3:]]) #we exclude first three bins, since there are less than five hits in each\n",
    "print(\"p= \",p)"
   ]
  },
  {
   "cell_type": "markdown",
   "metadata": {},
   "source": [
    "We can see that the likelihood of producing the same data (same $\\chi^2$ statistics to be specific) by coincidence if both after winning and after loosing distributions are the same is just 0.002%.\n",
    "**We can therefore clearly conclude that loosing teams award lower spirit of the game scores to the winning teams than other way round.**\n",
    "\n",
    "Howewer, we don't know if this is because teams are biased during scoring, or for some other reason (e.g. because breaking the spirit of the game code gives the team competitive advantage, or because low spirit of the game is correlated with high competitivness, which is also good for success).\n",
    "I will try some bayesian modeling in the future."
   ]
  },
  {
   "cell_type": "code",
   "execution_count": null,
   "metadata": {},
   "outputs": [],
   "source": []
  },
  {
   "cell_type": "code",
   "execution_count": null,
   "metadata": {},
   "outputs": [],
   "source": []
  },
  {
   "cell_type": "code",
   "execution_count": null,
   "metadata": {},
   "outputs": [],
   "source": []
  }
 ],
 "metadata": {
  "kernelspec": {
   "display_name": "Python 3",
   "language": "python",
   "name": "python3"
  },
  "language_info": {
   "codemirror_mode": {
    "name": "ipython",
    "version": 3
   },
   "file_extension": ".py",
   "mimetype": "text/x-python",
   "name": "python",
   "nbconvert_exporter": "python",
   "pygments_lexer": "ipython3",
   "version": "3.5.2"
  }
 },
 "nbformat": 4,
 "nbformat_minor": 2
}
